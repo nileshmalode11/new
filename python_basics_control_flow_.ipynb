{
  "nbformat": 4,
  "nbformat_minor": 0,
  "metadata": {
    "colab": {
      "provenance": [],
      "authorship_tag": "ABX9TyPBzUo6atBwJbbAOzqOWC9Y",
      "include_colab_link": true
    },
    "kernelspec": {
      "name": "python3",
      "display_name": "Python 3"
    },
    "language_info": {
      "name": "python"
    }
  },
  "cells": [
    {
      "cell_type": "markdown",
      "metadata": {
        "id": "view-in-github",
        "colab_type": "text"
      },
      "source": [
        "<a href=\"https://colab.research.google.com/github/nileshmalode11/new/blob/main/python_basics_control_flow_.ipynb\" target=\"_parent\"><img src=\"https://colab.research.google.com/assets/colab-badge.svg\" alt=\"Open In Colab\"/></a>"
      ]
    },
    {
      "cell_type": "markdown",
      "source": [
        "#Loops"
      ],
      "metadata": {
        "id": "fkK6CUPd-9Vl"
      }
    },
    {
      "cell_type": "code",
      "source": [
        "#Q) Write a Program to dispaly *'s in Right Angled Triangled Form\n",
        "for i in range(6):\n",
        "  for j in range(i):\n",
        "    print(\"*\",end='   ')\n",
        "  print(\"\\n\") \n",
        "#  "
      ],
      "metadata": {
        "id": "wW-eDpKf_cPc"
      },
      "execution_count": null,
      "outputs": []
    },
    {
      "cell_type": "code",
      "source": [
        "#Q) Python program to print all the even numbers within the given range\n",
        "\n",
        "number=range(int(input(\"enter a 1st no\")),int(input(\"enter a last no\")))\n",
        "for i in number:\n",
        "  if i%2==0:\n",
        "    print(i)"
      ],
      "metadata": {
        "id": "drHO3N5AGH_o"
      },
      "execution_count": null,
      "outputs": []
    },
    {
      "cell_type": "code",
      "source": [
        "#avrage value of numbers\n",
        "sum=0\n",
        "i=10\n",
        "while i>0:\n",
        "  print(\"enter a number\")\n",
        "  num=int(input())\n",
        "  sum+=num\n",
        "  i-=1\n",
        "print(\"avrage value\",sum/10.0)  "
      ],
      "metadata": {
        "id": "eGuRYtFLGGvp"
      },
      "execution_count": null,
      "outputs": []
    },
    {
      "cell_type": "code",
      "source": [
        "i=1\n",
        "j=2\n",
        "while i>=1:\n",
        "  print(\" \"*j+\"*\"*i+\" \"*j)\n",
        "  i+=2\n",
        "  j-=1\n",
        "  if i>5:\n",
        "    break\n",
        "i=3\n",
        "j=1    \n",
        "while i>=1:\n",
        "   print(\" \"*j+\"*\"*i+\" \"*j)\n",
        "   i-=2\n",
        "   j+=1    "
      ],
      "metadata": {
        "colab": {
          "base_uri": "https://localhost:8080/"
        },
        "id": "eCLquDNeuYd1",
        "outputId": "90df7746-5a88-4356-82cd-476ed3aad383"
      },
      "execution_count": null,
      "outputs": [
        {
          "output_type": "stream",
          "name": "stdout",
          "text": [
            "  *  \n",
            " *** \n",
            "*****\n",
            " *** \n",
            "  *  \n"
          ]
        }
      ]
    }
  ]
}