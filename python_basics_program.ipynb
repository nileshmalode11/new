{
  "nbformat": 4,
  "nbformat_minor": 0,
  "metadata": {
    "colab": {
      "provenance": [],
      "authorship_tag": "ABX9TyP74KJji97bUASi3lIzDkVd",
      "include_colab_link": true
    },
    "kernelspec": {
      "name": "python3",
      "display_name": "Python 3"
    },
    "language_info": {
      "name": "python"
    }
  },
  "cells": [
    {
      "cell_type": "markdown",
      "metadata": {
        "id": "view-in-github",
        "colab_type": "text"
      },
      "source": [
        "<a href=\"https://colab.research.google.com/github/nileshmalode11/new/blob/main/python_basics_program.ipynb\" target=\"_parent\"><img src=\"https://colab.research.google.com/assets/colab-badge.svg\" alt=\"Open In Colab\"/></a>"
      ]
    },
    {
      "cell_type": "code",
      "execution_count": null,
      "metadata": {
        "id": "im82s4W783FU"
      },
      "outputs": [],
      "source": [
        "# 1) Maximum of two numbers in Python\n",
        "a=int(input(\"enter 1st no \"))\n",
        "b=int(input(\"enter 2nd n0 \"))\n",
        "if a>b:\n",
        "  print(\"the gretter no is \",a)\n",
        "elif a==b:\n",
        "  print(\"both are equal\")  \n",
        "else:\n",
        "  print(\"the gretter no is\",b)  \n",
        "#or\n",
        "x=(a if a>=b else b)\n",
        "print(\"maximum number is\",x)"
      ]
    },
    {
      "cell_type": "code",
      "source": [
        "# 2) Python program to add two numbers\n",
        "num1=int(input(\"enter num1 \"))\n",
        "num2=int(input(\"enter num2 \"))\n",
        "#adding two number\n",
        "sum=num1+num2\n",
        "print(\"the sum of two numbers is\",sum)"
      ],
      "metadata": {
        "id": "sriplk50Hvpg"
      },
      "execution_count": null,
      "outputs": []
    },
    {
      "cell_type": "code",
      "source": [
        "# 3) Python Program for factorial of a number\n",
        "import math\n",
        "x=int(input(\"enter a number\"))\n",
        "math.factorial(x)"
      ],
      "metadata": {
        "id": "LaQWLt4TJti-"
      },
      "execution_count": null,
      "outputs": []
    },
    {
      "cell_type": "code",
      "source": [
        "# 4) Python Program for simple interest\n",
        "p=int(input(\"enter a principal ammount :\"))\n",
        "t=int(input(\"enter a time period :\" ))\n",
        "r=int(input(\"enter a rate of intest :\" ))\n",
        "\n",
        "#for simple intrset p*t*r/100\n",
        "si=p*t*r/100\n",
        "print(\"the simple intrest is :\",si)"
      ],
      "metadata": {
        "id": "VIfIW1U9Lpgf"
      },
      "execution_count": null,
      "outputs": []
    },
    {
      "cell_type": "code",
      "source": [
        "# 5) Python Program for compound interest\n",
        "p=input()\n",
        "t=input()\n",
        "r=input()\n",
        "\n",
        "#for compount intrest\n",
        "a=p*(1+(r/100))**t \n",
        "ci=a-p\n",
        "print(ci)"
      ],
      "metadata": {
        "id": "5nSx0fALny3W"
      },
      "execution_count": null,
      "outputs": []
    },
    {
      "cell_type": "code",
      "source": [],
      "metadata": {
        "id": "uKg-PzLiv-j_"
      },
      "execution_count": null,
      "outputs": []
    },
    {
      "cell_type": "code",
      "source": [
        "p= 1200   # principle amount\n",
        "t= 2      # time\n",
        "r= 5.4    # rate\n",
        "# calculates the compound interest\n",
        "a=p*(1+(r/100))**t  # formula for calculating amount\n",
        "ci=a-p  # compound interest = amount - principal amount\n",
        "# printing compound interest value\n",
        "print(ci)"
      ],
      "metadata": {
        "colab": {
          "base_uri": "https://localhost:8080/"
        },
        "id": "5VHkMkc9vbh_",
        "outputId": "161c1a49-5487-4b8f-9ca1-44ee2bb44b50"
      },
      "execution_count": null,
      "outputs": [
        {
          "output_type": "stream",
          "name": "stdout",
          "text": [
            "133.0992000000001\n"
          ]
        }
      ]
    },
    {
      "cell_type": "code",
      "source": [
        "# 6) Python Program to check Armstrong Number\n",
        "n=int(input(\"enter a number\"))\n",
        "x=n\n",
        "a=len(str(n))\n",
        "sum=0\n",
        "while n!=0:\n",
        "  b=n%10\n",
        "  sum=sum+(b**a)\n",
        "  n=n//10\n",
        "if sum==x:\n",
        "  print(\"enterd number\",x,\"is a armstrong number\")\n",
        "else:\n",
        "  print(\"enterd number\",x,\"is not a armstrong number\")  "
      ],
      "metadata": {
        "colab": {
          "base_uri": "https://localhost:8080/"
        },
        "id": "Heo4et2ixTgr",
        "outputId": "bc054400-4cb6-4013-9141-905967d79369"
      },
      "execution_count": null,
      "outputs": [
        {
          "output_type": "stream",
          "name": "stdout",
          "text": [
            "enter a number1234\n",
            "enterd number 1234 is not a armstrong number\n"
          ]
        }
      ]
    },
    {
      "cell_type": "code",
      "source": [
        "# 7) Python Program for Program to find area of a circle\n",
        "import math\n",
        "r=int(input(\"enter a redius of circle:\"))\n",
        "#to find area of circle\n",
        "area=math.pi*r*r\n",
        "print(area)"
      ],
      "metadata": {
        "id": "WG9wH64GzpO6"
      },
      "execution_count": null,
      "outputs": []
    },
    {
      "cell_type": "code",
      "source": [
        "# 8) Python Program to Print all Prime Numbers in an Interval\n",
        "l=int(input())\n",
        "u=int(input())\n",
        "\n",
        "print(\"prime numbers between \" ,l,\"and\",u,\"are\")\n",
        "\n",
        "for num in range(l,u+1):\n",
        "  if num>1:\n",
        "    for i in range(2,num):\n",
        "      if (num%i)==0:\n",
        "        break\n",
        "    else:\n",
        "      print(num)     "
      ],
      "metadata": {
        "colab": {
          "base_uri": "https://localhost:8080/"
        },
        "id": "zqFu8PlB7I71",
        "outputId": "b89059ba-89f5-465d-d1af-04f8a2bc5644"
      },
      "execution_count": null,
      "outputs": [
        {
          "output_type": "stream",
          "name": "stdout",
          "text": [
            "10\n",
            "20\n",
            "prime numbers between  10 and 20 are\n",
            "11\n",
            "13\n",
            "17\n",
            "19\n"
          ]
        }
      ]
    },
    {
      "cell_type": "code",
      "source": [
        "# 9) Python Program to cheak number is Prime Number or not?\n",
        "num=int(input(\"enter your number: \"))\n",
        "flag=False\n",
        "\n",
        "if num>1:\n",
        "  for i in range(2,num):\n",
        "    if (num%i)==0:\n",
        "      flag=True\n",
        "      break\n",
        "\n",
        "if flag:\n",
        "  print(\"your no is not prime number\")\n",
        "else:\n",
        "  print(\"your no is prime number\")  "
      ],
      "metadata": {
        "id": "b8ZmP86zFb06"
      },
      "execution_count": null,
      "outputs": []
    },
    {
      "cell_type": "code",
      "source": [
        "# 10) Python Program to Print the Fibonacci sequence\n",
        "num=int(input(\"enter nth number\"))\n",
        "a=0\n",
        "b=1\n",
        "count=0\n",
        "if num<=0:\n",
        "  print(\"please enter possitive number\")\n",
        "elif num==1:\n",
        "  print(num-1)\n",
        "else:\n",
        "  while count<num:\n",
        "    print(b)\n",
        "    nth=a+b\n",
        "    a=b\n",
        "    b=nth\n",
        "    count+=1  \n"
      ],
      "metadata": {
        "id": "3hKGs1DPJX8w"
      },
      "execution_count": null,
      "outputs": []
    },
    {
      "cell_type": "code",
      "source": [
        "# 11) program to print ASCII value of a character\n",
        "s=input(\"enter acharacter:\")\n",
        "print(\"the ACSII value of \"+ s +\" is\",ord(s))"
      ],
      "metadata": {
        "colab": {
          "base_uri": "https://localhost:8080/"
        },
        "id": "i0-OI9oFqiYD",
        "outputId": "f2473b8a-9164-4837-c127-a574eb9de947"
      },
      "execution_count": null,
      "outputs": [
        {
          "output_type": "stream",
          "name": "stdout",
          "text": [
            "enter acharacter:d\n",
            "the ACSII value of d is 100\n"
          ]
        }
      ]
    },
    {
      "cell_type": "code",
      "source": [
        "# 12) python program for print square of n natural numbers\n",
        "\n",
        "sum=0\n",
        "for i in range(1,10):\n",
        "  sum=sum+(i*i)\n",
        "print(sum)  "
      ],
      "metadata": {
        "colab": {
          "base_uri": "https://localhost:8080/"
        },
        "id": "vGKWdztuucmI",
        "outputId": "0f173572-6864-4f8e-ab42-45ec47b883e4"
      },
      "execution_count": null,
      "outputs": [
        {
          "output_type": "stream",
          "name": "stdout",
          "text": [
            "285\n"
          ]
        }
      ]
    },
    {
      "cell_type": "code",
      "source": [
        "# 13) python program for print cubes of n natural numbers\n",
        "num=int(input(\"enter a number \"))\n",
        "sum=0\n",
        "i=1\n",
        "while i<=num:\n",
        "  sum=sum+(i**3)\n",
        "  i+=1\n",
        "print(\"the sum of cubes of natural numbers are \",sum)  "
      ],
      "metadata": {
        "id": "BEaP_PhJwLuV"
      },
      "execution_count": null,
      "outputs": []
    },
    {
      "cell_type": "code",
      "source": [
        "# 14) program for how to cheak given number is fabonacci or not in fabonacci seres\n",
        "number=int(input(\"enter the number\"))\n",
        "x=0\n",
        "a=1\n",
        "b=1\n",
        "if number==1 or number==0:\n",
        "  print('the given number is in  fabonacci sereis')\n",
        "else:\n",
        "  while x<number:\n",
        "    x=a+b\n",
        "    b=a\n",
        "    a=x\n",
        "  if x==number:\n",
        "    print('the given number is in fabonacci sereis ')\n",
        "  else:\n",
        "    print('the given number is not in fabonacci sereis ') "
      ],
      "metadata": {
        "colab": {
          "base_uri": "https://localhost:8080/"
        },
        "id": "IuYwptDS0xro",
        "outputId": "978cd39a-ef32-4cfc-f4fd-6515058cc230"
      },
      "execution_count": null,
      "outputs": [
        {
          "output_type": "stream",
          "name": "stdout",
          "text": [
            "enter the number10\n",
            "the given number is not in fabonacci serese \n"
          ]
        }
      ]
    }
  ]
}