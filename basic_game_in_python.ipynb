{
  "nbformat": 4,
  "nbformat_minor": 0,
  "metadata": {
    "colab": {
      "provenance": [],
      "authorship_tag": "ABX9TyMopzxWnLTaZPy08EDAYAnj",
      "include_colab_link": true
    },
    "kernelspec": {
      "name": "python3",
      "display_name": "Python 3"
    },
    "language_info": {
      "name": "python"
    }
  },
  "cells": [
    {
      "cell_type": "markdown",
      "metadata": {
        "id": "view-in-github",
        "colab_type": "text"
      },
      "source": [
        "<a href=\"https://colab.research.google.com/github/nileshmalode11/new/blob/main/basic_game_in_python.ipynb\" target=\"_parent\"><img src=\"https://colab.research.google.com/assets/colab-badge.svg\" alt=\"Open In Colab\"/></a>"
      ]
    },
    {
      "cell_type": "markdown",
      "source": [
        "#Game in python by using loop and conditional operator\n",
        "\n",
        "###Game name:-guess the number"
      ],
      "metadata": {
        "id": "SzBqrU3JBkFd"
      }
    },
    {
      "cell_type": "code",
      "execution_count": null,
      "metadata": {
        "id": "JTGuW5BhA7YE"
      },
      "outputs": [],
      "source": [
        "a=20\n",
        "for i in range(1,10):\n",
        "    n=int(input(\"guess the number:\"))\n",
        "    if i<9 or n==20:\n",
        "        if n<a:\n",
        "            print(\"wrong number\\nplease enter gretter nomber\")\n",
        "            print(\"number of guesses remaining:\",9-i)\n",
        "            \n",
        "        elif n>a:\n",
        "            print(\"wrong number\\nplease enter smaller number\")\n",
        "            print(\"number of guesses reamaining:\",9-i)\n",
        "\n",
        "        else:\n",
        "            print(\"\\ncongratulation!!!!\\n\\nyou enter right number\\n\\nyou won!!!!\\n\")\n",
        "            print(\"number of guesses you took to win:\",i)\n",
        "            break\n",
        "            \n",
        "    else:\n",
        "        print(\"you guess the wrong number\\ngame over \")\n",
        "        print(\"number of remaining guesses:\",9-i)"
      ]
    }
  ]
}