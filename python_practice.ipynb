{
  "nbformat": 4,
  "nbformat_minor": 0,
  "metadata": {
    "colab": {
      "provenance": [],
      "authorship_tag": "ABX9TyOXo+ho1ix0MAKFLTD+rEhf",
      "include_colab_link": true
    },
    "kernelspec": {
      "name": "python3",
      "display_name": "Python 3"
    },
    "language_info": {
      "name": "python"
    }
  },
  "cells": [
    {
      "cell_type": "markdown",
      "metadata": {
        "id": "view-in-github",
        "colab_type": "text"
      },
      "source": [
        "<a href=\"https://colab.research.google.com/github/nileshmalode11/new/blob/main/python_practice.ipynb\" target=\"_parent\"><img src=\"https://colab.research.google.com/assets/colab-badge.svg\" alt=\"Open In Colab\"/></a>"
      ]
    },
    {
      "cell_type": "code",
      "execution_count": null,
      "metadata": {
        "colab": {
          "base_uri": "https://localhost:8080/"
        },
        "id": "DtzkmCt20psI",
        "outputId": "220fbac6-7e3f-4db4-b869-c59f177713e9"
      },
      "outputs": [
        {
          "output_type": "stream",
          "name": "stdout",
          "text": [
            "the name of student  sagar 25\n"
          ]
        }
      ],
      "source": [
        "'''Python Default Arguments: Function arguments can have default values in Python.\n",
        "We provide a default value to an argument by using the assignment operator (=).'''\n",
        "\n",
        "def xyz(name,age='25'):\n",
        "  print(\"the name of student \",name , age)\n",
        "xyz('sagar')  "
      ]
    },
    {
      "cell_type": "code",
      "source": [
        "#Python program to interchange first and last elements in a list\n",
        "\n",
        "def swap_num(list1):\n",
        "  list1[0],list1[-1]=list1[-1],list1[0],\n",
        "  return list1\n",
        "\n",
        "list1=[12,23,23,34,45,87]\n",
        "swap_num(list1)"
      ],
      "metadata": {
        "colab": {
          "base_uri": "https://localhost:8080/"
        },
        "id": "HE4SUfeC8laK",
        "outputId": "52fab67e-8f86-4449-8d99-6f8dad8188ae"
      },
      "execution_count": null,
      "outputs": [
        {
          "output_type": "execute_result",
          "data": {
            "text/plain": [
              "[87, 23, 23, 34, 45, 12]"
            ]
          },
          "metadata": {},
          "execution_count": 9
        }
      ]
    },
    {
      "cell_type": "code",
      "source": [
        "#Check if element exists in list in Python\n",
        "l1=[12,34,567,34,32,34,12,456,9]\n",
        "x= int(input())\n",
        "\n",
        "if x in l1:\n",
        "   print(\"exits\")\n",
        "else:\n",
        "   print('not exits')  "
      ],
      "metadata": {
        "colab": {
          "base_uri": "https://localhost:8080/"
        },
        "id": "-V1wo5WW9h9_",
        "outputId": "1f927e0b-b470-497a-e61e-8194c4f8da2b"
      },
      "execution_count": null,
      "outputs": [
        {
          "output_type": "stream",
          "name": "stdout",
          "text": [
            "12\n",
            "exits\n"
          ]
        }
      ]
    },
    {
      "cell_type": "code",
      "source": [
        "#Different ways to clear a list in Python\n",
        "lis=['patil',12,2.345,'prasad']\n",
        "print(lis)\n",
        "\n",
        "#clear list by using clear()\n",
        "lis.clear()\n",
        "\n",
        "#list after clear()\n",
        "print(lis)\n",
        "\n",
        "\n",
        "list2=[94,67,99,23,84]\n",
        "# Printing list2 before deleting\n",
        "print(str(list2))\n",
        " \n",
        "# deleting list using reinitialization\n",
        "list2 = []\n",
        "\n",
        "#after reinitialization\n",
        "print(list2)"
      ],
      "metadata": {
        "colab": {
          "base_uri": "https://localhost:8080/"
        },
        "id": "hM56Kmgf_9A-",
        "outputId": "52ab322f-91f6-4f90-db21-63ebd7528390"
      },
      "execution_count": null,
      "outputs": [
        {
          "output_type": "stream",
          "name": "stdout",
          "text": [
            "['patil', 12, 2.345, 'prasad']\n",
            "[]\n",
            "[94, 67, 99, 23, 84]\n",
            "[]\n"
          ]
        }
      ]
    },
    {
      "cell_type": "code",
      "source": [
        "#Reversing a List in Python\n",
        "def reverse_list(list1):\n",
        "  left = 0\n",
        "  right = len(list1)-1\n",
        "  print(list1)\n",
        "  while left < right:\n",
        "    temp = list1[left]\n",
        "    list1[left] = list1[right]\n",
        "    list1[right] = temp\n",
        "    left +=1\n",
        "    right -=1\n",
        "  print(list1)  \n",
        "list1=[90,87,84,81,78,75,72,69]\n",
        "reverse_list(list1)\n",
        "\n",
        "\n",
        "#reverse list by using reverse()\n",
        "list1.reverse()\n",
        "\n",
        "print(list1)"
      ],
      "metadata": {
        "colab": {
          "base_uri": "https://localhost:8080/"
        },
        "id": "ixI0e7yFFXEG",
        "outputId": "5aed5d28-de09-46cc-c9d5-46e61edbe039"
      },
      "execution_count": null,
      "outputs": [
        {
          "output_type": "stream",
          "name": "stdout",
          "text": [
            "[90, 87, 84, 81, 78, 75, 72, 69]\n",
            "[69, 72, 75, 78, 81, 84, 87, 90]\n",
            "[90, 87, 84, 81, 78, 75, 72, 69]\n"
          ]
        }
      ]
    },
    {
      "cell_type": "code",
      "source": [
        "#Multiply all numbers in the list \n",
        "\n",
        "lis1 = [1,23,43,23,22,12]\n",
        "result=1\n",
        "for i in lis1:\n",
        "  result =result*i\n",
        "print(result) \n",
        "\n",
        "#by importring math module\n",
        "import math\n",
        "result = math.prod(lis1)\n",
        "print(result)\n"
      ],
      "metadata": {
        "colab": {
          "base_uri": "https://localhost:8080/"
        },
        "id": "BcqfIfZBHaoa",
        "outputId": "f7913ba0-5a42-46c3-8627-0049ccfd9583"
      },
      "execution_count": null,
      "outputs": [
        {
          "output_type": "stream",
          "name": "stdout",
          "text": [
            "6005208\n",
            "6005208\n"
          ]
        }
      ]
    },
    {
      "cell_type": "code",
      "source": [
        "'''Write a Python program to calculate the difference between a given number and 17.\n",
        "If the number is greater than 17, return twice the absolute difference.'''\n",
        "def differance(n):\n",
        "  if n <= 17:\n",
        "    return (n-17)\n",
        "  else:\n",
        "    return(n-17)*2\n",
        "print(differance(23)) \n",
        "print(differance(12))   "
      ],
      "metadata": {
        "colab": {
          "base_uri": "https://localhost:8080/"
        },
        "id": "qXTGeHNrhzvj",
        "outputId": "ad6cef36-db6f-4241-963c-d26891d18781"
      },
      "execution_count": 1,
      "outputs": [
        {
          "output_type": "stream",
          "name": "stdout",
          "text": [
            "12\n",
            "-5\n"
          ]
        }
      ]
    },
    {
      "cell_type": "code",
      "source": [
        "#Write a Python program to test whether a number is within 100 of 1000 or 2000\n",
        "\n",
        "def near_thousand(n):\n",
        "  return((abs(1000-n)<=100) or abs(2000-n)<=100)\n",
        "\n",
        "print(near_thousand(1000))\n",
        "print(near_thousand(1800))  "
      ],
      "metadata": {
        "colab": {
          "base_uri": "https://localhost:8080/"
        },
        "id": "VzUyaVBcjUAM",
        "outputId": "15d3070a-3a95-4954-f242-6a06df69b2b1"
      },
      "execution_count": 2,
      "outputs": [
        {
          "output_type": "stream",
          "name": "stdout",
          "text": [
            "True\n",
            "False\n"
          ]
        }
      ]
    },
    {
      "cell_type": "code",
      "source": [
        "#Write a Python program to calculate the sum of three given numbers. If the values are equal, return three times their sum.\n",
        "\n",
        "def sum_thrice(x,y,z):\n",
        "\n",
        "  if x==y==z:\n",
        "    sum=(x+y+z)*x\n",
        "  else:\n",
        "    sum= x+y+z\n",
        "  return sum    \n",
        "print(sum_thrice(1,2,3))\n",
        "print(sum_thrice(3,3,3))  "
      ],
      "metadata": {
        "colab": {
          "base_uri": "https://localhost:8080/"
        },
        "id": "ko2QzA8NkX_1",
        "outputId": "afa1b29d-3970-4f31-a41a-cef62b128ed9"
      },
      "execution_count": 3,
      "outputs": [
        {
          "output_type": "stream",
          "name": "stdout",
          "text": [
            "6\n",
            "27\n"
          ]
        }
      ]
    },
    {
      "cell_type": "code",
      "source": [
        "'''Write a Python program to get a newly-generated string from a given string where \"Is\" has been added to the front. \n",
        "Return the string unchanged if the given string already begins with \"Is\"'''\n",
        "def new_string(text):\n",
        "  if len(text) >= 2 and text[0:2] == 'is':\n",
        "    return text\n",
        "  else:\n",
        "    return 'is '+ text\n",
        "print(new_string(\"is mango\"))\n",
        "print(new_string('mango'))      "
      ],
      "metadata": {
        "colab": {
          "base_uri": "https://localhost:8080/"
        },
        "id": "BsR6I7UelzMP",
        "outputId": "474dc429-0a79-4063-c999-b42a7409a77f"
      },
      "execution_count": 7,
      "outputs": [
        {
          "output_type": "stream",
          "name": "stdout",
          "text": [
            "is mango\n",
            "is mango\n"
          ]
        }
      ]
    },
    {
      "cell_type": "code",
      "source": [
        "#Write a Python program that returns a string that is n (non-negative integer) copies of a given string\n",
        "\n",
        "def increse_string(text,n):\n",
        "  result = \"\"\n",
        "  for i in range(n):\n",
        "    result += text\n",
        "  return result \n",
        "print(increse_string('nilesh',5))    "
      ],
      "metadata": {
        "colab": {
          "base_uri": "https://localhost:8080/"
        },
        "id": "1EsLJtAanzA3",
        "outputId": "8a558ebc-92bd-45e2-b14a-2233203b67c2"
      },
      "execution_count": 15,
      "outputs": [
        {
          "output_type": "stream",
          "name": "stdout",
          "text": [
            "nileshnileshnileshnileshnilesh\n"
          ]
        }
      ]
    },
    {
      "cell_type": "code",
      "source": [
        "n=int(input('enter a number'))\n",
        "if n%2==0:\n",
        "  print(f\"{n} is even number\")\n",
        "else:\n",
        "  print(f\"{n} is a odd number\")  "
      ],
      "metadata": {
        "colab": {
          "base_uri": "https://localhost:8080/"
        },
        "id": "yEMwxv_lp4AV",
        "outputId": "715cba79-de74-4afe-ee01-1ddc4cddf887"
      },
      "execution_count": 17,
      "outputs": [
        {
          "output_type": "stream",
          "name": "stdout",
          "text": [
            "enter a number5\n",
            "5 is a odd number\n"
          ]
        }
      ]
    },
    {
      "cell_type": "code",
      "source": [
        "#Write a Python program to count the number 4 in a given list\n",
        "def num_count(num,n):\n",
        "  count = 0\n",
        "  for num in num:\n",
        "    if num==n:\n",
        "      count+=1\n",
        "  return f\"the {n} present in list {count} times\"\n",
        "print(num_count([1,2,4,5,2,3,3,2,3],3))     "
      ],
      "metadata": {
        "colab": {
          "base_uri": "https://localhost:8080/"
        },
        "id": "yPNOJ8goqnRx",
        "outputId": "abfeadd4-ca5e-4502-d267-25df8ee2fa00"
      },
      "execution_count": 19,
      "outputs": [
        {
          "output_type": "stream",
          "name": "stdout",
          "text": [
            "the 3 present in list 3 times\n"
          ]
        }
      ]
    }
  ]
}