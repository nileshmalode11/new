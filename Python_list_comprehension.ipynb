{
  "nbformat": 4,
  "nbformat_minor": 0,
  "metadata": {
    "colab": {
      "provenance": [],
      "authorship_tag": "ABX9TyMm75nBklzwOzVyNLLkTnQ2",
      "include_colab_link": true
    },
    "kernelspec": {
      "name": "python3",
      "display_name": "Python 3"
    },
    "language_info": {
      "name": "python"
    }
  },
  "cells": [
    {
      "cell_type": "markdown",
      "metadata": {
        "id": "view-in-github",
        "colab_type": "text"
      },
      "source": [
        "<a href=\"https://colab.research.google.com/github/nileshmalode11/new/blob/main/Python_list_comprehension.ipynb\" target=\"_parent\"><img src=\"https://colab.research.google.com/assets/colab-badge.svg\" alt=\"Open In Colab\"/></a>"
      ]
    },
    {
      "cell_type": "code",
      "execution_count": 3,
      "metadata": {
        "colab": {
          "base_uri": "https://localhost:8080/"
        },
        "id": "rpQ9hMe3p91X",
        "outputId": "5b7d3dcf-01ae-4abe-c11d-156a2f70039d"
      },
      "outputs": [
        {
          "output_type": "stream",
          "name": "stdout",
          "text": [
            "[1, 9, 25, 49, 81]\n",
            "[1, 9, 25, 49, 81]\n"
          ]
        }
      ],
      "source": [
        "# Python program to demonstrate list comprehension in Python\n",
        "\n",
        "# below list contains square of all odd numbers from\n",
        "# range 1 to 10\n",
        "odd_squre = [x**2 for x in range(1,11) if x%2 ==1]\n",
        "print(odd_squre)\n",
        "\n",
        "y = []\n",
        "for x in range(1,11):\n",
        "  if x%2==1:\n",
        "    y.append(x**2)\n",
        "print(y)"
      ]
    },
    {
      "cell_type": "code",
      "source": [
        "# below list contains power of 2 from 1 to 8\n",
        "power_of_2 = [2 ** x for x in range(1, 9)]\n",
        "print (power_of_2)\n",
        "#range 1 to 10\n",
        "lst=[x**2 if x%2==1 else x*2 for x in range(1,11)]\n",
        "print(lst)\n",
        "\n",
        "#for understanding ,above \"lst\" is same as below \"lst1\"\n",
        "lst1=[]\n",
        "for x in range(1,11):\n",
        "  if x%2==1:\n",
        "      lst1.append(x**2)\n",
        "  else:\n",
        "    lst1.append(x*2)\n",
        "print(lst1)"
      ],
      "metadata": {
        "colab": {
          "base_uri": "https://localhost:8080/"
        },
        "id": "mrzxhb3Arnh2",
        "outputId": "9a109e27-c697-4bfa-f1e7-6ce829cd62ff"
      },
      "execution_count": 4,
      "outputs": [
        {
          "output_type": "stream",
          "name": "stdout",
          "text": [
            "[2, 4, 8, 16, 32, 64, 128, 256]\n",
            "[1, 4, 9, 8, 25, 12, 49, 16, 81, 20]\n",
            "[1, 4, 9, 8, 25, 12, 49, 16, 81, 20]\n"
          ]
        }
      ]
    },
    {
      "cell_type": "code",
      "source": [
        "multi_2= [2 ** x for x in range(1,11)]\n",
        "print(multi_2)\n",
        "\n",
        "lst = [x**2 if x%2==1 else x*2 for x in range(1,11)]\n",
        "print(lst)\n",
        "\n",
        "list1 = []\n",
        "for x in range(1,11):\n",
        "  if x%2==1:\n",
        "    list1.append(x**2)\n",
        "  else:\n",
        "    list1.append(x*2)\n",
        "print(list1)"
      ],
      "metadata": {
        "colab": {
          "base_uri": "https://localhost:8080/"
        },
        "id": "QFoCYaBSsq7C",
        "outputId": "918fab69-d5e8-44e1-cfb1-4c3bfb2eea7c"
      },
      "execution_count": 6,
      "outputs": [
        {
          "output_type": "stream",
          "name": "stdout",
          "text": [
            "[2, 4, 8, 16, 32, 64, 128, 256, 512, 1024]\n",
            "[1, 4, 9, 8, 25, 12, 49, 16, 81, 20]\n",
            "[1, 4, 9, 8, 25, 12, 49, 16, 81, 20]\n"
          ]
        }
      ]
    },
    {
      "cell_type": "code",
      "source": [
        "# below list contains prime and non-prime in range 1 to 50\n",
        "noprimes = [j for i in range(2, 8) for j in range(i*2, 50, i)]\n",
        "print(noprimes)\n",
        "primes = [x for x in range(2, 50) if x not in noprimes]\n",
        "print (primes)\n",
        "\n",
        "# list for lowering the characters\n",
        "print ([x.lower() for x in [\"A\",\"B\",\"C\"]] )\n",
        "\n",
        "# list which extracts number\n",
        "string = \"my phone number is : 11122 !!\"\n",
        "\n",
        "print(\"\\nExtracted digits\")\n",
        "numbers = [x for x in string if x.isdigit()]\n",
        "print (numbers)"
      ],
      "metadata": {
        "colab": {
          "base_uri": "https://localhost:8080/"
        },
        "id": "gexOyY8XwJjD",
        "outputId": "5b6e1c4b-b0da-4fef-9ba0-aa72cf48a158"
      },
      "execution_count": 8,
      "outputs": [
        {
          "output_type": "stream",
          "name": "stdout",
          "text": [
            "[4, 6, 8, 10, 12, 14, 16, 18, 20, 22, 24, 26, 28, 30, 32, 34, 36, 38, 40, 42, 44, 46, 48, 6, 9, 12, 15, 18, 21, 24, 27, 30, 33, 36, 39, 42, 45, 48, 8, 12, 16, 20, 24, 28, 32, 36, 40, 44, 48, 10, 15, 20, 25, 30, 35, 40, 45, 12, 18, 24, 30, 36, 42, 48, 14, 21, 28, 35, 42, 49]\n",
            "[2, 3, 5, 7, 11, 13, 17, 19, 23, 29, 31, 37, 41, 43, 47]\n",
            "['a', 'b', 'c']\n",
            "\n",
            "Extracted digits\n",
            "['1', '1', '1', '2', '2']\n"
          ]
        }
      ]
    },
    {
      "cell_type": "code",
      "source": [
        "nonprime = [j for i in range(2,8) for j in range(i*2, 50, i)]\n",
        "prime = [ x for x in range(2,50) if x not in nonprime]\n",
        "print(prime)"
      ],
      "metadata": {
        "colab": {
          "base_uri": "https://localhost:8080/"
        },
        "id": "v9GKhzaQwRAU",
        "outputId": "f5d595c4-505e-4fa7-e26b-8fea3faf0625"
      },
      "execution_count": 9,
      "outputs": [
        {
          "output_type": "stream",
          "name": "stdout",
          "text": [
            "[2, 3, 5, 7, 11, 13, 17, 19, 23, 29, 31, 37, 41, 43, 47]\n"
          ]
        }
      ]
    },
    {
      "cell_type": "code",
      "source": [
        "#converting the upper case into lower case\n",
        "print([x.lower() for x in[\"A\",\"D\",\"Y\"]])"
      ],
      "metadata": {
        "colab": {
          "base_uri": "https://localhost:8080/"
        },
        "id": "hHrBQ0kX0y7i",
        "outputId": "cd17a3f6-0d4d-45ba-f7bc-2ad9e798806e"
      },
      "execution_count": 14,
      "outputs": [
        {
          "output_type": "stream",
          "name": "stdout",
          "text": [
            "['a', 'd', 'y']\n"
          ]
        }
      ]
    },
    {
      "cell_type": "code",
      "source": [
        "# list which extracts number\n",
        "string = \"my phone number is : 11122 !!\"\n",
        "\n",
        "print(\"Extracted digits\")\n",
        "numbers = [x for x in string if x.isdigit()]\n",
        "print (numbers)"
      ],
      "metadata": {
        "colab": {
          "base_uri": "https://localhost:8080/"
        },
        "id": "2w5BYADm3ASC",
        "outputId": "3abe4541-12a0-4416-d659-90ffdbba6261"
      },
      "execution_count": 16,
      "outputs": [
        {
          "output_type": "stream",
          "name": "stdout",
          "text": [
            "Extracted digits\n",
            "['1', '1', '1', '2', '2']\n"
          ]
        }
      ]
    },
    {
      "cell_type": "code",
      "source": [
        "# A list of list for multiplication table\n",
        "a = 5\n",
        "table = [[a, b, a * b] for b in range(1, 11)]\n",
        "print(table)\n",
        "\n",
        "print(\"\\nMultiplication Table\")\n",
        "for i in table:\n",
        "    print (i)"
      ],
      "metadata": {
        "colab": {
          "base_uri": "https://localhost:8080/"
        },
        "id": "NLt57Sa33Qx7",
        "outputId": "ce87be7e-e018-4c3b-8907-0496aaa75d20"
      },
      "execution_count": 18,
      "outputs": [
        {
          "output_type": "stream",
          "name": "stdout",
          "text": [
            "[[5, 1, 5], [5, 2, 10], [5, 3, 15], [5, 4, 20], [5, 5, 25], [5, 6, 30], [5, 7, 35], [5, 8, 40], [5, 9, 45], [5, 10, 50]]\n",
            "\n",
            "Multiplication Table\n",
            "[5, 1, 5]\n",
            "[5, 2, 10]\n",
            "[5, 3, 15]\n",
            "[5, 4, 20]\n",
            "[5, 5, 25]\n",
            "[5, 6, 30]\n",
            "[5, 7, 35]\n",
            "[5, 8, 40]\n",
            "[5, 9, 45]\n",
            "[5, 10, 50]\n"
          ]
        }
      ]
    },
    {
      "cell_type": "code",
      "source": [
        "lst = list(range(1,11))\n",
        "print(lst)\n",
        "\n",
        "x = lst[4:9:2]\n",
        "print(x)\n",
        "\n",
        "y= lst[1::1]\n",
        "print(y)"
      ],
      "metadata": {
        "colab": {
          "base_uri": "https://localhost:8080/"
        },
        "id": "h2B54JBD3k8o",
        "outputId": "2c3c8992-309b-4150-91ae-6f1c6b26bf87"
      },
      "execution_count": 24,
      "outputs": [
        {
          "output_type": "stream",
          "name": "stdout",
          "text": [
            "[1, 2, 3, 4, 5, 6, 7, 8, 9, 10]\n",
            "[5, 7, 9]\n",
            "[2, 3, 4, 5, 6, 7, 8, 9, 10]\n"
          ]
        }
      ]
    }
  ]
}