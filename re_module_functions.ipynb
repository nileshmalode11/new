{
  "nbformat": 4,
  "nbformat_minor": 0,
  "metadata": {
    "colab": {
      "provenance": [],
      "authorship_tag": "ABX9TyMbsRcWmJHMpvfSmT1URt0O",
      "include_colab_link": true
    },
    "kernelspec": {
      "name": "python3",
      "display_name": "Python 3"
    },
    "language_info": {
      "name": "python"
    }
  },
  "cells": [
    {
      "cell_type": "markdown",
      "metadata": {
        "id": "view-in-github",
        "colab_type": "text"
      },
      "source": [
        "<a href=\"https://colab.research.google.com/github/nileshmalode11/new/blob/main/re_module_functions.ipynb\" target=\"_parent\"><img src=\"https://colab.research.google.com/assets/colab-badge.svg\" alt=\"Open In Colab\"/></a>"
      ]
    },
    {
      "cell_type": "code",
      "execution_count": 4,
      "metadata": {
        "colab": {
          "base_uri": "https://localhost:8080/"
        },
        "id": "qj5STftqRPS0",
        "outputId": "6e767f15-55aa-4bb2-beb7-bc620a0facc2"
      },
      "outputs": [
        {
          "output_type": "stream",
          "name": "stdout",
          "text": [
            "['1', '2', '7', '4', '3', '4']\n",
            "['12', '74', '34']\n",
            "['h', 'e', 'l', 'l', 'o', 'w', '1', '2', 'h', 'i', '7', '4', 'h', 'o', 'w', 'n', 'd', 'y', '3', '4']\n"
          ]
        }
      ],
      "source": [
        "#findall fuction\n",
        "\n",
        "import re \n",
        "string=\"hellow 12 hi 74.howndy 34\"\n",
        "\n",
        "result=re.findall(\"\\d\",string) #\"\\d\" for decimal digit[0-9] \n",
        "print(result)\n",
        "\n",
        "result=re.findall(\"\\d+\",string) #\"\\d+\" for group of integer\n",
        "print(result)\n",
        "\n",
        "result=re.findall(\"\\w\",string) #\"\\w\" for non alphanumeric character []\n",
        "print(result)"
      ]
    },
    {
      "cell_type": "code",
      "source": [
        "#re.split() function\n",
        "\n",
        "string=\"nine:9 twenty:20 ninty nine;99\"\n",
        "pattern=\"\\d+\"\n",
        "\n",
        "result=re.split(pattern,string)\n",
        "print(result)\n",
        "\n",
        "result=re.split(\"\\S\",string)\n",
        "print(result)"
      ],
      "metadata": {
        "colab": {
          "base_uri": "https://localhost:8080/"
        },
        "id": "_ixtjy3cTi28",
        "outputId": "efd448c7-df11-4b70-fc10-f8fed49bc5e8"
      },
      "execution_count": 11,
      "outputs": [
        {
          "output_type": "stream",
          "name": "stdout",
          "text": [
            "['nine:', ' twenty:', ' ninty nine;', '']\n",
            "['', '', '', '', '', '', ' ', '', '', '', '', '', '', '', '', ' ', '', '', '', '', ' ', '', '', '', '', '', '', '']\n"
          ]
        }
      ]
    },
    {
      "cell_type": "code",
      "source": [
        "# re.sub() fuction\n",
        "\n",
        "string='abc 11\\\n",
        "de 23\\n f45 6'\n",
        "\n",
        "new_str=re.sub(\"\\d+\",\"|\",string)\n",
        "print(new_str)"
      ],
      "metadata": {
        "colab": {
          "base_uri": "https://localhost:8080/"
        },
        "id": "J-RBchfWUVJ0",
        "outputId": "1c8339fe-0632-4752-8d4b-c27c08d5d826"
      },
      "execution_count": 27,
      "outputs": [
        {
          "output_type": "stream",
          "name": "stdout",
          "text": [
            "abc |de |\n",
            " f| |\n"
          ]
        }
      ]
    },
    {
      "cell_type": "code",
      "source": [
        "#re.search() function\n",
        "\n",
        "string=\"python is very popular language\"\n",
        "\n",
        "match=re.search(\"\\Apython\",string)\n",
        "print(match)"
      ],
      "metadata": {
        "colab": {
          "base_uri": "https://localhost:8080/"
        },
        "id": "3LFIxVcaV6rj",
        "outputId": "bed5d0a8-1c7e-4616-db68-0ebf5baa4dcf"
      },
      "execution_count": 26,
      "outputs": [
        {
          "output_type": "stream",
          "name": "stdout",
          "text": [
            "<re.Match object; span=(0, 6), match='python'>\n"
          ]
        }
      ]
    },
    {
      "cell_type": "code",
      "source": [],
      "metadata": {
        "id": "Pg7FM_TXYl3U"
      },
      "execution_count": null,
      "outputs": []
    }
  ]
}