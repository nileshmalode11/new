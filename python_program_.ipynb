{
  "nbformat": 4,
  "nbformat_minor": 0,
  "metadata": {
    "colab": {
      "provenance": [],
      "authorship_tag": "ABX9TyMLbYftU33yOKVr1b7PGaBx",
      "include_colab_link": true
    },
    "kernelspec": {
      "name": "python3",
      "display_name": "Python 3"
    },
    "language_info": {
      "name": "python"
    }
  },
  "cells": [
    {
      "cell_type": "markdown",
      "metadata": {
        "id": "view-in-github",
        "colab_type": "text"
      },
      "source": [
        "<a href=\"https://colab.research.google.com/github/nileshmalode11/new/blob/main/python_program_.ipynb\" target=\"_parent\"><img src=\"https://colab.research.google.com/assets/colab-badge.svg\" alt=\"Open In Colab\"/></a>"
      ]
    },
    {
      "cell_type": "code",
      "execution_count": null,
      "metadata": {
        "colab": {
          "base_uri": "https://localhost:8080/"
        },
        "id": "NC_RMIXXAAnA",
        "outputId": "568dd866-9935-4f7e-fdc3-8b2cc8cd2348"
      },
      "outputs": [
        {
          "output_type": "stream",
          "name": "stdout",
          "text": [
            "Enter the string :motherboard\n",
            "the word contains 4 vowels\n"
          ]
        }
      ],
      "source": [
        "#Que 1: Write a program to find vowels in a word. Use functions and loops.\n",
        "\n",
        "#take user input\n",
        "String = input('Enter the string :')\n",
        "count = 0\n",
        "#to check for less conditions\n",
        "#keep string in lowercase\n",
        "String = String.lower()\n",
        "for i in String:\n",
        "    if i == 'a' or i == 'e' or i == 'i' or i == 'o' or i == 'u':\n",
        "        #if True\n",
        "        count+=1\n",
        "#check if any vowel found\n",
        "if count == 0:\n",
        "    print('No vowels found')\n",
        "else:\n",
        "    print(f'the word contains {str(count)} vowels')"
      ]
    },
    {
      "cell_type": "code",
      "source": [
        "# Que 2: Write a program to find if input number is armstrong number. Use functions and loops.\n",
        "\n",
        "\n",
        "n=int(input(\"enter a number\"))\n",
        "x=n\n",
        "a=len(str(n))\n",
        "sum=0\n",
        "while n!=0:\n",
        "  b=n%10\n",
        "  sum=sum+(b**a)\n",
        "  n=n//10\n",
        "if sum==x:\n",
        "  print(\"enterd number\",x,\"is a armstrong number\")\n",
        "else:\n",
        "  print(\"enterd number\",x,\"is not a armstrong number\") "
      ],
      "metadata": {
        "colab": {
          "base_uri": "https://localhost:8080/"
        },
        "id": "9t3FWGlACY6s",
        "outputId": "f988ae68-49c2-4c50-b216-e0b03354db7c"
      },
      "execution_count": null,
      "outputs": [
        {
          "output_type": "stream",
          "name": "stdout",
          "text": [
            "enter a number54123\n",
            "enterd number 54123 is not a armstrong number\n"
          ]
        }
      ]
    },
    {
      "cell_type": "code",
      "source": [],
      "metadata": {
        "id": "_2A4Rq1HCAWN"
      },
      "execution_count": null,
      "outputs": []
    }
  ]
}