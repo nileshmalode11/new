{
  "nbformat": 4,
  "nbformat_minor": 0,
  "metadata": {
    "colab": {
      "provenance": [],
      "authorship_tag": "ABX9TyN4JP7jf67rCaA/5AqKVFB6",
      "include_colab_link": true
    },
    "kernelspec": {
      "name": "python3",
      "display_name": "Python 3"
    },
    "language_info": {
      "name": "python"
    }
  },
  "cells": [
    {
      "cell_type": "markdown",
      "metadata": {
        "id": "view-in-github",
        "colab_type": "text"
      },
      "source": [
        "<a href=\"https://colab.research.google.com/github/nileshmalode11/new/blob/main/python_programs_practice_on_loop.ipynb\" target=\"_parent\"><img src=\"https://colab.research.google.com/assets/colab-badge.svg\" alt=\"Open In Colab\"/></a>"
      ]
    },
    {
      "cell_type": "markdown",
      "source": [
        "#stars and number pattern programs"
      ],
      "metadata": {
        "id": "OQZ-UwQEViSH"
      }
    },
    {
      "cell_type": "code",
      "execution_count": 10,
      "metadata": {
        "id": "ICMWrz384BzT",
        "colab": {
          "base_uri": "https://localhost:8080/"
        },
        "outputId": "30dd8d85-d647-4cf6-a96d-0a5fac62fd20"
      },
      "outputs": [
        {
          "output_type": "stream",
          "name": "stdout",
          "text": [
            "    *\n",
            "   **\n",
            "  ***\n",
            " ****\n",
            "*****\n"
          ]
        }
      ],
      "source": [
        "#print stars pattern in right angle\n",
        "i=1\n",
        "while i<=5:\n",
        "  j=1\n",
        "  while j<=5-i:\n",
        "    print(\" \",end=\"\")\n",
        "    j+=1\n",
        "  b=1\n",
        "  while b<=i:\n",
        "    print(\"*\",end=\"\")\n",
        "    b+=1\n",
        "  i+=1\n",
        "  print()    "
      ]
    },
    {
      "cell_type": "code",
      "source": [
        "#star pattern in tringle\n",
        "k=1\n",
        "i=1\n",
        "while i<=5:\n",
        "  j=1\n",
        "  while j<=5-i:\n",
        "    print(\" \",end=\"\")\n",
        "    j+=1\n",
        "  b=1  \n",
        "  while b<=k:\n",
        "    print(\"*\",end=\"\")\n",
        "    b+=1\n",
        "    \n",
        "  k+=2\n",
        "  print()   \n",
        "  i+=1"
      ],
      "metadata": {
        "id": "I1EFnEuD58Ir",
        "colab": {
          "base_uri": "https://localhost:8080/"
        },
        "outputId": "6017eae2-ee4d-43fb-d9dc-cf7b7d994ddf"
      },
      "execution_count": 9,
      "outputs": [
        {
          "output_type": "stream",
          "name": "stdout",
          "text": [
            "    *\n",
            "   ***\n",
            "  *****\n",
            " *******\n",
            "*********\n"
          ]
        }
      ]
    },
    {
      "cell_type": "code",
      "source": [
        "n=int(input(\"enter number of rows you want:\"))\n",
        "i=1\n",
        "while i<=n:\n",
        "  j=1\n",
        "  while j<=i:\n",
        "    print(\"*\",end=\" \")\n",
        "    j+=1\n",
        "  print() \n",
        "  i+=1  "
      ],
      "metadata": {
        "id": "ONdxfX3OFc89",
        "colab": {
          "base_uri": "https://localhost:8080/"
        },
        "outputId": "f5d94c65-6556-4cfc-a86a-7a4cfc552b93"
      },
      "execution_count": 12,
      "outputs": [
        {
          "output_type": "stream",
          "name": "stdout",
          "text": [
            "enter number of rows you want:7\n",
            "* \n",
            "* * \n",
            "* * * \n",
            "* * * * \n",
            "* * * * * \n",
            "* * * * * * \n",
            "* * * * * * * \n"
          ]
        }
      ]
    },
    {
      "cell_type": "code",
      "source": [
        "n=int(input(\"enter number that you want:\"))\n",
        "i=1\n",
        "while i<=n:\n",
        "  j=1\n",
        "  while j<=i:\n",
        "    print(i,end=\" \")\n",
        "    j+=1\n",
        "  print() \n",
        "  i+=1"
      ],
      "metadata": {
        "colab": {
          "base_uri": "https://localhost:8080/"
        },
        "id": "hAi1bcbiKcek",
        "outputId": "c6bd66ac-8b88-43de-86f3-b86daa578a6f"
      },
      "execution_count": 14,
      "outputs": [
        {
          "output_type": "stream",
          "name": "stdout",
          "text": [
            "enter number that you want:6\n",
            "1 \n",
            "2 2 \n",
            "3 3 3 \n",
            "4 4 4 4 \n",
            "5 5 5 5 5 \n",
            "6 6 6 6 6 6 \n"
          ]
        }
      ]
    },
    {
      "cell_type": "code",
      "source": [
        "n=5\n",
        "a=1\n",
        "while a<=n:\n",
        "  b=1\n",
        "  while b<=a:\n",
        "    print(b,end=\" \")\n",
        "    b+=1\n",
        "  print() \n",
        "  a+=1"
      ],
      "metadata": {
        "colab": {
          "base_uri": "https://localhost:8080/"
        },
        "id": "GY5bO9XGKqSq",
        "outputId": "96f9d009-8a26-4535-91b2-1acb91d56acf"
      },
      "execution_count": 19,
      "outputs": [
        {
          "output_type": "stream",
          "name": "stdout",
          "text": [
            "1 \n",
            "1 2 \n",
            "1 2 3 \n",
            "1 2 3 4 \n",
            "1 2 3 4 5 \n"
          ]
        }
      ]
    },
    {
      "cell_type": "code",
      "source": [
        "n=int(input(\"enter a rows:\"))\n",
        "i=1\n",
        "while n>0:\n",
        "  b=1\n",
        "  while b<i:\n",
        "    print(\" \",end=\" \")\n",
        "    b+=1\n",
        "  j=1\n",
        "  while j<=(n*2)-1:\n",
        "    print(\"*\",end=\" \")\n",
        "    j+=1\n",
        "  print(\"\\n\")\n",
        "  n-=1\n",
        "  i+=1    "
      ],
      "metadata": {
        "colab": {
          "base_uri": "https://localhost:8080/"
        },
        "id": "4OFVdTaFLX2q",
        "outputId": "d2269b32-e44f-4c89-d230-8d3b6a80fa70"
      },
      "execution_count": 38,
      "outputs": [
        {
          "output_type": "stream",
          "name": "stdout",
          "text": [
            "enter a rows:6\n",
            "* * * * * * * * * * * \n",
            "\n",
            "  * * * * * * * * * \n",
            "\n",
            "    * * * * * * * \n",
            "\n",
            "      * * * * * \n",
            "\n",
            "        * * * \n",
            "\n",
            "          * \n",
            "\n"
          ]
        }
      ]
    },
    {
      "cell_type": "code",
      "source": [
        "i=1\n",
        "while i<=5:\n",
        "  j=1\n",
        "  while j<=7:\n",
        "    if j<=5-i or j>=3+i:\n",
        "      print(\"*\",end=\" \")\n",
        "    else:\n",
        "      print(\" \",end=\" \")\n",
        "    j+=1\n",
        "  print(\"\\n\")\n",
        "  i+=1      "
      ],
      "metadata": {
        "colab": {
          "base_uri": "https://localhost:8080/"
        },
        "id": "i2W7D_1QSm9p",
        "outputId": "46bf58dc-2b52-4dcd-d425-0e2f9319f15c"
      },
      "execution_count": 39,
      "outputs": [
        {
          "output_type": "stream",
          "name": "stdout",
          "text": [
            "* * * * * * * \n",
            "\n",
            "* * *   * * * \n",
            "\n",
            "* *       * * \n",
            "\n",
            "*           * \n",
            "\n",
            "              \n",
            "\n"
          ]
        }
      ]
    }
  ]
}