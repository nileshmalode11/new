{
  "nbformat": 4,
  "nbformat_minor": 0,
  "metadata": {
    "colab": {
      "provenance": [],
      "authorship_tag": "ABX9TyO+JDZ5K672dXtVbQHFj/wm",
      "include_colab_link": true
    },
    "kernelspec": {
      "name": "python3",
      "display_name": "Python 3"
    },
    "language_info": {
      "name": "python"
    }
  },
  "cells": [
    {
      "cell_type": "markdown",
      "metadata": {
        "id": "view-in-github",
        "colab_type": "text"
      },
      "source": [
        "<a href=\"https://colab.research.google.com/github/nileshmalode11/new/blob/main/python_oops_1.ipynb\" target=\"_parent\"><img src=\"https://colab.research.google.com/assets/colab-badge.svg\" alt=\"Open In Colab\"/></a>"
      ]
    },
    {
      "cell_type": "markdown",
      "source": [
        "**what is object orianted programming?**\n",
        "\n",
        "In Python, object-oriented Programming (OOPs) is a programming paradigm that uses objects and classes in programming. It aims to implement real-world entities like inheritance, polymorphisms, encapsulation, etc. in the programming. The main concept of OOPs is to bind the data and the functions that work on that together as a single unit so that no other part of the code can access this data."
      ],
      "metadata": {
        "id": "U59XzPYwPumq"
      }
    },
    {
      "cell_type": "markdown",
      "source": [
        "**Main Concepts of Object-Oriented Programming (OOPs)**\n",
        "\n",
        "\n",
        "\n",
        "* Class  \n",
        "*Objects\n",
        "\n",
        "* Polymorphism   \n",
        "* Encapsulation\n",
        "\n",
        "\n",
        "\n",
        "* Inheritance   \n",
        "* Data Abstraction\n",
        "\n",
        "\n",
        "\n",
        "\n",
        "\n",
        "\n",
        "\n",
        "\n",
        "\n",
        "\n",
        "\n",
        "\n"
      ],
      "metadata": {
        "id": "m_YPfuE7QQmW"
      }
    },
    {
      "cell_type": "markdown",
      "source": [
        "**1.Class**\n",
        "\n",
        "A class is a collection of objects. A class contains the blueprints or the prototype from which the objects are being created. It is a logical entity that contains some attributes and methods"
      ],
      "metadata": {
        "id": "_Ahc9Oa9RN0x"
      }
    },
    {
      "cell_type": "code",
      "execution_count": null,
      "metadata": {
        "id": "A4JYWYGUOwyF"
      },
      "outputs": [],
      "source": [
        "#for creating empty class\n",
        "class dog:\n",
        "  pass"
      ]
    },
    {
      "cell_type": "markdown",
      "source": [
        "**2.Objects**\n",
        "\n",
        "The object is an entity that has a state and behavior associated with it. It may be any real-world object like a mouse, keyboard, chair, table, pen, etc. Integers, strings, floating-point numbers, even arrays, and dictionaries, are all objects"
      ],
      "metadata": {
        "id": "_QeQLgUEPtjJ"
      }
    },
    {
      "cell_type": "code",
      "source": [
        "obj=dog()"
      ],
      "metadata": {
        "id": "myyC0Vx-SC_B"
      },
      "execution_count": null,
      "outputs": []
    },
    {
      "cell_type": "markdown",
      "source": [
        "**Creating a class and object with class and instance attributes**"
      ],
      "metadata": {
        "id": "ivRM3dd8Sque"
      }
    },
    {
      "cell_type": "code",
      "source": [
        "class Dog:\n",
        " \n",
        "    # class attribute\n",
        "    attr1 = \"mammal\"\n",
        " \n",
        "    # Instance attribute\n",
        "    def __init__(self, name):\n",
        "        self.name = name\n",
        " \n",
        "# Driver code\n",
        "# Object instantiation\n",
        "Rodger = Dog(\"Rodger\")\n",
        "Tommy = Dog(\"Tommy\")\n",
        " \n",
        "# Accessing class attributes\n",
        "print(\"Rodger is a {}\".format(Rodger.__class__.attr1))\n",
        "print(\"Tommy is also a {}\".format(Tommy.__class__.attr1))\n",
        " \n",
        "# Accessing instance attributes\n",
        "print(\"My name is {}\".format(Rodger.name))\n",
        "print(\"My name is {}\".format(Tommy.name))"
      ],
      "metadata": {
        "colab": {
          "base_uri": "https://localhost:8080/"
        },
        "id": "PgcKdBX9SuWx",
        "outputId": "2c6ecd94-a8fc-404b-f3e9-0d5115652cc3"
      },
      "execution_count": null,
      "outputs": [
        {
          "output_type": "stream",
          "name": "stdout",
          "text": [
            "Rodger is a mammal\n",
            "Tommy is also a mammal\n",
            "My name is Rodger\n",
            "My name is Tommy\n"
          ]
        }
      ]
    },
    {
      "cell_type": "markdown",
      "source": [
        "**3.Inheritance**\n",
        "\n",
        "Inheritance is the capability of one class to derive or inherit the properties from another class. The class that derives properties is called the derived class or child class and the class from which the properties are being derived is called the base class or parent class. The benefits of inheritance are:\n",
        "\n",
        "\n",
        "\n",
        "* It represents real-world relationships well.\n",
        "*  It provides the reusability of a code. We don’t have to write the same code again and again. Also, it allows us to add more features to a class without modifying it. \n",
        "\n",
        "\n",
        "\n"
      ],
      "metadata": {
        "id": "-sklvhAvUBL6"
      }
    },
    {
      "cell_type": "code",
      "source": [
        "#Example of inheritance\n",
        "# parent class\n",
        "class Person(object):\n",
        " \n",
        "    # __init__ is known as the constructor\n",
        "    def __init__(self, name, idnumber):\n",
        "        self.name = name\n",
        "        self.idnumber = idnumber\n",
        " \n",
        "    def display(self):\n",
        "        print(self.name)\n",
        "        print(self.idnumber)\n",
        "         \n",
        "    # def details(self):\n",
        "    #     print(\"My name is {}\".format(self.name))\n",
        "    #     print(\"IdNumber: {}\".format(self.idnumber))\n",
        "     \n",
        "# child class\n",
        "class Employee(Person):\n",
        "    def __init__(self, name, idnumber, salary, post):\n",
        "        self.salary = salary\n",
        "        self.post = post\n",
        " \n",
        "        # invoking the __init__ of the parent class\n",
        "        Person.__init__(self, name, idnumber)\n",
        "         \n",
        "    def details(self):\n",
        "        print(\"My name is {}\".format(self.name))\n",
        "        print(\"IdNumber: {}\".format(self.idnumber))\n",
        "        print(\"Post: {}\".format(self.post))\n",
        " \n",
        " \n",
        "# creation of an object variable or an instance\n",
        "a = Employee('Rahul', 886012, 200000, \"Intern\")\n",
        "b= Employee('Nilesh',786765,30000,'engg')\n",
        " \n",
        "# calling a function of the class Person using\n",
        "# its instance\n",
        "a.display()\n",
        "b.details()"
      ],
      "metadata": {
        "colab": {
          "base_uri": "https://localhost:8080/"
        },
        "id": "3U_VN6INUfwW",
        "outputId": "ae28839e-90da-4911-c151-9dc8f4776f08"
      },
      "execution_count": null,
      "outputs": [
        {
          "output_type": "stream",
          "name": "stdout",
          "text": [
            "Rahul\n",
            "886012\n",
            "My name is Nilesh\n",
            "IdNumber: 786765\n",
            "Post: engg\n"
          ]
        }
      ]
    },
    {
      "cell_type": "markdown",
      "source": [
        "**4.Polymorphism**\n",
        "\n",
        "Polymorphism simply means having many forms. For example, we need to determine if the given species of birds fly or not, using polymorphism we can do this using a single function"
      ],
      "metadata": {
        "id": "jkRGxM1RWfJm"
      }
    },
    {
      "cell_type": "code",
      "source": [
        "class Bird:\n",
        "  def intro(self):\n",
        "        print(\"There are many types of birds.\")\n",
        " \n",
        "  def flight(self):\n",
        "       print(\"Most of the birds can fly but some cannot.\")\n",
        " \n",
        "class sparrow(Bird):\n",
        "   \n",
        "    def flight(self):\n",
        "        print(\"Sparrows can fly.\")\n",
        " \n",
        "class ostrich(Bird):\n",
        " \n",
        "    def flight(self):\n",
        "        print(\"Ostriches cannot fly.\")\n",
        " \n",
        "obj_bird = Bird()\n",
        "obj_spr = sparrow()\n",
        "obj_ost = ostrich()\n",
        " \n",
        "obj_bird.intro()\n",
        "obj_bird.flight()\n",
        " \n",
        "obj_spr.intro()\n",
        "obj_spr.flight()\n",
        " \n",
        "obj_ost.intro()\n",
        "obj_ost.flight()"
      ],
      "metadata": {
        "id": "1RZAt_17WkmP",
        "colab": {
          "base_uri": "https://localhost:8080/"
        },
        "outputId": "230b3a2e-2c71-467a-ffc6-bf51d2ecf752"
      },
      "execution_count": 9,
      "outputs": [
        {
          "output_type": "stream",
          "name": "stdout",
          "text": [
            "There are many types of birds.\n",
            "Most of the birds can fly but some cannot.\n",
            "There are many types of birds.\n",
            "Sparrows can fly.\n",
            "There are many types of birds.\n",
            "Ostriches cannot fly.\n"
          ]
        }
      ]
    },
    {
      "cell_type": "markdown",
      "source": [
        "**5.Encapsulation**\n",
        "\n",
        "Encapsulation is one of the fundamental concepts in object-oriented programming (OOP). It describes the idea of wrapping data and the methods that work on data within one unit. This puts restrictions on accessing variables and methods directly and can prevent the accidental modification of data"
      ],
      "metadata": {
        "id": "Ne0_Anx4GoYT"
      }
    },
    {
      "cell_type": "code",
      "source": [
        "# demonstrate private members\n",
        " \n",
        "# Creating a Base class\n",
        "class Base:\n",
        "    def __init__(self):\n",
        "        self.a = \"GeeksforGeeks\"\n",
        "        self.c = \"nilesh\"\n",
        " \n",
        "# Creating a derived class\n",
        "class Derived(Base):\n",
        "    def __init__(self):\n",
        " \n",
        "        # Calling constructor of\n",
        "        # Base class\n",
        "        Base.__init__(self)\n",
        "        print(\"Calling private member of base class: \")\n",
        "        print(self.__c)\n",
        " \n",
        " \n",
        "# Driver code\n",
        "obj1 = Base()\n",
        "print(obj1.a)\n"
      ],
      "metadata": {
        "colab": {
          "base_uri": "https://localhost:8080/"
        },
        "id": "_q7J8YiVGsOn",
        "outputId": "64a34c83-5ba2-4f9d-b413-fce642cc155c"
      },
      "execution_count": 16,
      "outputs": [
        {
          "output_type": "stream",
          "name": "stdout",
          "text": [
            "GeeksforGeeks\n"
          ]
        }
      ]
    },
    {
      "cell_type": "markdown",
      "source": [
        "**6.Data** **Abstraction** \n",
        "\n",
        "It hides the unnecessary code details from the user. Also,  when we do not want to give out sensitive parts of our code implementation and this is where data abstraction came."
      ],
      "metadata": {
        "id": "M9eQ18C0LKCC"
      }
    },
    {
      "cell_type": "markdown",
      "source": [
        "**Examples**"
      ],
      "metadata": {
        "id": "2ThJ0lXXZymD"
      }
    },
    {
      "cell_type": "code",
      "source": [
        "class Employee:\n",
        "  no_of_leaves=45\n",
        "  pass\n",
        "  #def __init__(self)\n",
        "\n",
        "sagar=Employee()\n",
        "nilesh=Employee()\n",
        "umesh=Employee()\n",
        "\n",
        "sagar.name=\"sagar\"\n",
        "sagar.no_of_leaves=3\n",
        "sagar.sallary=33000\n",
        "print(sagar.__dict__)\n",
        "sagar.no_of_leaves=43\n",
        "print(Employee.__dict__)\n",
        "\n",
        "nilesh.name=\"nilesh\"\n",
        "\n",
        "print(nilesh.no_of_leaves)"
      ],
      "metadata": {
        "colab": {
          "base_uri": "https://localhost:8080/"
        },
        "id": "YAAe2HY1LayB",
        "outputId": "338ecdd4-bbb4-48a5-c92a-96562dea8a58"
      },
      "execution_count": 8,
      "outputs": [
        {
          "output_type": "stream",
          "name": "stdout",
          "text": [
            "{'name': 'sagar', 'no_of_leaves': 3, 'sallary': 33000}\n",
            "{'__module__': '__main__', 'no_of_leaves': 45, '__dict__': <attribute '__dict__' of 'Employee' objects>, '__weakref__': <attribute '__weakref__' of 'Employee' objects>, '__doc__': None}\n",
            "45\n"
          ]
        }
      ]
    },
    {
      "cell_type": "code",
      "source": [
        "class Employee:\n",
        "  __name=None\n",
        "  __id=0\n",
        "  __salary=2000\n",
        "\n",
        "  def set_name(self,name):\n",
        "    self.name = name\n",
        "\n",
        "harry = Employee()  \n",
        "print(harry.set_name(\"harry\"))"
      ],
      "metadata": {
        "colab": {
          "base_uri": "https://localhost:8080/"
        },
        "id": "HkQhuEJscdZu",
        "outputId": "554d30ea-52c0-41d4-f219-9dd8e600601b"
      },
      "execution_count": 12,
      "outputs": [
        {
          "output_type": "stream",
          "name": "stdout",
          "text": [
            "None\n"
          ]
        }
      ]
    },
    {
      "cell_type": "code",
      "source": [
        "#classes - Template\n",
        "#object - Instance of the class\n",
        "\n",
        "#DRY - Do Not Reapeat Yourself\n",
        "\n",
        "class Student:\n",
        "  pass\n",
        "Nilesh = Student()\n",
        "Rutik = Student()\n",
        "\n",
        "Nilesh.name = 'Nilesh'\n",
        "Nilesh.std = 12\n",
        "Nilesh.section = 2\n",
        "Rutik.name = 'Rutik'\n",
        "Rutik.std = 13\n",
        "Rutik.section = 1\n",
        "\n",
        "print(Nilesh.name,Rutik.name,Rutik.std)\n",
        "\n",
        "  "
      ],
      "metadata": {
        "colab": {
          "base_uri": "https://localhost:8080/"
        },
        "id": "DDQ_6dgsddwT",
        "outputId": "ebae5913-d772-425e-f786-d20a28fcb62c"
      },
      "execution_count": 17,
      "outputs": [
        {
          "output_type": "stream",
          "name": "stdout",
          "text": [
            "Nilesh Rutik 13\n"
          ]
        }
      ]
    },
    {
      "cell_type": "code",
      "source": [
        "#Example 2\n",
        "\n",
        "class Employee:\n",
        "  no_of_leaves =5\n",
        "  pass\n",
        "shubham = Employee()\n",
        "prasad = Employee()\n",
        "\n",
        "shubham.name = 'shubham'\n",
        "shubham.salary = 474747\n",
        "shubham.role = 'tester'\n",
        "\n",
        "prasad.name = 'prasad'\n",
        "prasad.salary = 2009990\n",
        "prasad.role = 'manager'\n",
        "print(prasad.__dict__)\n",
        "prasad.no_of_leaves = 7\n",
        "\n",
        "print(prasad.__dict__)\n",
        "print(shubham.__dict__)\n"
      ],
      "metadata": {
        "colab": {
          "base_uri": "https://localhost:8080/"
        },
        "id": "6JWZN0ZNfuKD",
        "outputId": "9d886d2b-48a2-4139-c8ba-58b7c39350c0"
      },
      "execution_count": 24,
      "outputs": [
        {
          "output_type": "stream",
          "name": "stdout",
          "text": [
            "{'name': 'prasad', 'salary': 2009990, 'role': 'manager'}\n",
            "{'name': 'prasad', 'salary': 2009990, 'role': 'manager', 'no_of_leaves': 7}\n",
            "{'name': 'shubham', 'salary': 474747, 'role': 'tester'}\n"
          ]
        }
      ]
    },
    {
      "cell_type": "code",
      "source": [
        "#Example 3\n",
        "\n",
        "class Employee:\n",
        "  no_of_leaves=3\n",
        "  def printdetails(self): #method\n",
        "    return f'Name is {self.name}.salary is {self.salary}.and role is {self.role}'\n",
        "\n",
        "shubham = Employee()\n",
        "prasad = Employee()\n",
        "\n",
        "shubham.name = 'shubham'\n",
        "shubham.salary = 474747\n",
        "shubham.role = 'tester'\n",
        "\n",
        "prasad.name = 'prasad'\n",
        "prasad.salary = 2009990\n",
        "prasad.role = 'manager'\n",
        "\n",
        "print(shubham.printdetails())\n",
        "\n",
        "print(prasad.printdetails())\n",
        "print(prasad.no_of_leaves)"
      ],
      "metadata": {
        "colab": {
          "base_uri": "https://localhost:8080/"
        },
        "id": "wUPCYiYNjcX2",
        "outputId": "d1feae1d-5a32-4d67-d34d-b9445558d886"
      },
      "execution_count": 34,
      "outputs": [
        {
          "output_type": "stream",
          "name": "stdout",
          "text": [
            "Name is shubham.salary is 474747.and role is tester\n",
            "Name is prasad.salary is 2009990.and role is manager\n",
            "3\n"
          ]
        }
      ]
    }
  ]
}