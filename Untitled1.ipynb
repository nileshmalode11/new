{
  "nbformat": 4,
  "nbformat_minor": 0,
  "metadata": {
    "colab": {
      "provenance": [],
      "authorship_tag": "ABX9TyMmqWIMjDjWl5NPPJfLB2F3",
      "include_colab_link": true
    },
    "kernelspec": {
      "name": "python3",
      "display_name": "Python 3"
    },
    "language_info": {
      "name": "python"
    }
  },
  "cells": [
    {
      "cell_type": "markdown",
      "metadata": {
        "id": "view-in-github",
        "colab_type": "text"
      },
      "source": [
        "<a href=\"https://colab.research.google.com/github/nileshmalode11/new/blob/main/Untitled1.ipynb\" target=\"_parent\"><img src=\"https://colab.research.google.com/assets/colab-badge.svg\" alt=\"Open In Colab\"/></a>"
      ]
    },
    {
      "cell_type": "markdown",
      "source": [
        "#datatype"
      ],
      "metadata": {
        "id": "0aVnPRPVMXko"
      }
    },
    {
      "cell_type": "markdown",
      "source": [
        "###int datatype"
      ],
      "metadata": {
        "id": "JI4fxY6yMios"
      }
    },
    {
      "cell_type": "code",
      "source": [
        "a=23\n",
        "print(a)\n",
        "type(a)\n"
      ],
      "metadata": {
        "id": "SuRViFYlMrsk"
      },
      "execution_count": null,
      "outputs": []
    },
    {
      "cell_type": "markdown",
      "source": [
        "###float datatype"
      ],
      "metadata": {
        "id": "wMxqPz-5M-S0"
      }
    },
    {
      "cell_type": "code",
      "source": [
        "a=6.8\n",
        "print(a)\n",
        "type(a)"
      ],
      "metadata": {
        "id": "iwWeufU6NIfk"
      },
      "execution_count": null,
      "outputs": []
    },
    {
      "cell_type": "markdown",
      "source": [
        "###sting dataype"
      ],
      "metadata": {
        "id": "kjSbrym9NsbT"
      }
    },
    {
      "cell_type": "code",
      "source": [
        "x=\"hellow world\"\n",
        "print(x)\n",
        "type(x)\n",
        "x[3:5]"
      ],
      "metadata": {
        "colab": {
          "base_uri": "https://localhost:8080/",
          "height": 53
        },
        "id": "H2kduE5FOEas",
        "outputId": "41742294-95d6-4eaf-b632-c2c83dbcf55a"
      },
      "execution_count": null,
      "outputs": [
        {
          "output_type": "stream",
          "name": "stdout",
          "text": [
            "hellow world\n"
          ]
        },
        {
          "output_type": "execute_result",
          "data": {
            "text/plain": [
              "'lo'"
            ],
            "application/vnd.google.colaboratory.intrinsic+json": {
              "type": "string"
            }
          },
          "metadata": {},
          "execution_count": 7
        }
      ]
    },
    {
      "cell_type": "markdown",
      "source": [
        "###complex datatype"
      ],
      "metadata": {
        "id": "jfTl5lGULoWt"
      }
    },
    {
      "cell_type": "code",
      "execution_count": null,
      "metadata": {
        "colab": {
          "base_uri": "https://localhost:8080/"
        },
        "id": "1WWGCx0YKPv-",
        "outputId": "3ef9dc80-177f-408d-85c8-c7b503121300"
      },
      "outputs": [
        {
          "output_type": "stream",
          "name": "stdout",
          "text": [
            "(74+104j)\n",
            "(30+92j)\n",
            "(556+2468j)\n",
            "(3.3307692307692305+3.546153846153846j)\n"
          ]
        }
      ],
      "source": [
        " a=52+98j\n",
        " b=22+6j\n",
        " print(a+b)\n",
        " print(a-b)\n",
        " print(a*b)\n",
        " print(a/b)"
      ]
    },
    {
      "cell_type": "markdown",
      "source": [
        "#slicing"
      ],
      "metadata": {
        "id": "BArfJSgcSaVI"
      }
    },
    {
      "cell_type": "code",
      "source": [
        "x=\"artificial intelligence\"\n",
        "print(x[:7:2])\n",
        "print(x[::-1]) #for reversing the string"
      ],
      "metadata": {
        "colab": {
          "base_uri": "https://localhost:8080/"
        },
        "id": "PyidM3cmSfw1",
        "outputId": "a401953b-e8ae-4d6f-d829-30c5a0db2d5c"
      },
      "execution_count": null,
      "outputs": [
        {
          "output_type": "stream",
          "name": "stdout",
          "text": [
            "atfc\n",
            "ecnegilletni laicifitra\n"
          ]
        }
      ]
    },
    {
      "cell_type": "code",
      "source": [],
      "metadata": {
        "id": "1no9thuuS3Ak"
      },
      "execution_count": null,
      "outputs": []
    }
  ]
}