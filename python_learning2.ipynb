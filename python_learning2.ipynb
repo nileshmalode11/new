{
  "nbformat": 4,
  "nbformat_minor": 0,
  "metadata": {
    "colab": {
      "provenance": [],
      "authorship_tag": "ABX9TyMPJROVDQIZB6XJR1BgwGY6",
      "include_colab_link": true
    },
    "kernelspec": {
      "name": "python3",
      "display_name": "Python 3"
    },
    "language_info": {
      "name": "python"
    }
  },
  "cells": [
    {
      "cell_type": "markdown",
      "metadata": {
        "id": "view-in-github",
        "colab_type": "text"
      },
      "source": [
        "<a href=\"https://colab.research.google.com/github/nileshmalode11/new/blob/main/python_learning2.ipynb\" target=\"_parent\"><img src=\"https://colab.research.google.com/assets/colab-badge.svg\" alt=\"Open In Colab\"/></a>"
      ]
    },
    {
      "cell_type": "markdown",
      "source": [
        "#sequence datatype\n",
        "###list (mutable)"
      ],
      "metadata": {
        "id": "T1v4f8RPAtbd"
      }
    },
    {
      "cell_type": "code",
      "execution_count": null,
      "metadata": {
        "id": "6I_1jLFUAgpk"
      },
      "outputs": [],
      "source": [
        "#create a list\n",
        "list1=[89,\"nilesh\",89.9,89,1]\n",
        "print(type(list1))\n",
        "\n",
        "#reverse the list by slicing\n",
        "print(list1[::-1])\n",
        "\n",
        "#add element in list by using append function\n",
        "list1.append(\"machine learning\")\n",
        "print(list1)\n",
        "\n",
        "#remove element from list by using remove functin\n",
        "list1.remove(89)\n",
        "print(list1)\n",
        "\n",
        "#revers the list by using reverse function\n",
        "list1.reverse()\n",
        "print(list1)"
      ]
    },
    {
      "cell_type": "code",
      "source": [],
      "metadata": {
        "id": "KmfnemI8BIPc"
      },
      "execution_count": null,
      "outputs": []
    },
    {
      "cell_type": "markdown",
      "source": [
        "###tuple (immutable)"
      ],
      "metadata": {
        "id": "OIOqVMZbHdJt"
      }
    },
    {
      "cell_type": "code",
      "source": [
        "#ceate a tuple\n",
        "tup=(\"Data science\",9.8,87,)\n",
        "print(type(tup))\n",
        "print(tup)\n",
        "\n",
        "#slicing in tuple\n",
        "print(tup[1:3:2])\n",
        "#reverse the tuple\n",
        "print(tup[::-1])\n"
      ],
      "metadata": {
        "id": "jl7f5cIGHimQ"
      },
      "execution_count": null,
      "outputs": []
    },
    {
      "cell_type": "markdown",
      "source": [
        "###range (immutable)"
      ],
      "metadata": {
        "id": "J5Eg-octPsWi"
      }
    },
    {
      "cell_type": "code",
      "source": [
        "#create a rage\n",
        "r=range(2,101,2)\n",
        "print(type(r))\n",
        "for i in r:\n",
        "  print(i)\n",
        "print(r)"
      ],
      "metadata": {
        "id": "6LRilgg_PvlE"
      },
      "execution_count": null,
      "outputs": []
    },
    {
      "cell_type": "markdown",
      "source": [
        "###set (Mutable)"
      ],
      "metadata": {
        "id": "jxdea8UERz_L"
      }
    },
    {
      "cell_type": "code",
      "source": [
        "#create a set\n",
        "set1={\"apple\",87,0.2,\"deep learning\"}\n",
        "print(type(set1))\n",
        "print(set1)\n",
        "\n",
        "#add element in set\n",
        "set1.add(23)\n",
        "print(set1)\n",
        "\n",
        "#remove element from set\n",
        "set1.remove(\"apple\")\n",
        "print(set1)"
      ],
      "metadata": {
        "id": "4Zanv6MhR4Mw"
      },
      "execution_count": null,
      "outputs": []
    },
    {
      "cell_type": "markdown",
      "source": [
        "###frozenset (immutable)"
      ],
      "metadata": {
        "id": "SxXVaOlkWxPL"
      }
    },
    {
      "cell_type": "code",
      "source": [
        "#craete a frozenset\n",
        "num={\"coding\",1,1.3,98}\n",
        "num1=frozenset(num)\n",
        "print(type(num))\n",
        "print(type(num1))"
      ],
      "metadata": {
        "colab": {
          "base_uri": "https://localhost:8080/"
        },
        "id": "EAmJqnHZSg3j",
        "outputId": "a3e0bae1-db19-4f98-e71a-20b9f01282c0"
      },
      "execution_count": null,
      "outputs": [
        {
          "output_type": "stream",
          "name": "stdout",
          "text": [
            "<class 'set'>\n",
            "<class 'frozenset'>\n"
          ]
        }
      ]
    },
    {
      "cell_type": "code",
      "source": [],
      "metadata": {
        "id": "FtMNfmxqXe3E"
      },
      "execution_count": null,
      "outputs": []
    }
  ]
}