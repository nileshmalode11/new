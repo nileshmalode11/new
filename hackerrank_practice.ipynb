{
  "nbformat": 4,
  "nbformat_minor": 0,
  "metadata": {
    "colab": {
      "provenance": [],
      "gpuType": "T4",
      "authorship_tag": "ABX9TyM3G0WnVXewBwZVnpSr4EkX",
      "include_colab_link": true
    },
    "kernelspec": {
      "name": "python3",
      "display_name": "Python 3"
    },
    "language_info": {
      "name": "python"
    },
    "accelerator": "GPU"
  },
  "cells": [
    {
      "cell_type": "markdown",
      "metadata": {
        "id": "view-in-github",
        "colab_type": "text"
      },
      "source": [
        "<a href=\"https://colab.research.google.com/github/nileshmalode11/new/blob/main/hackerrank_practice.ipynb\" target=\"_parent\"><img src=\"https://colab.research.google.com/assets/colab-badge.svg\" alt=\"Open In Colab\"/></a>"
      ]
    },
    {
      "cell_type": "code",
      "execution_count": null,
      "metadata": {
        "id": "ACKap5UzJbOd"
      },
      "outputs": [],
      "source": [
        "def get_palindromesequence(s):\n",
        "      assert 5 <= len(s) <= 10 ** 5\n",
        "      assert all(x==\"0\" or x==\"1\" for x in s)\n",
        "\n",
        "      n = len(s)\n",
        "      pre_cnt, suf_cnt = [0] * 4, [0] * 4\n",
        "      cnt, cnt_so_far = [0, 0], [0, 0]\n",
        "      s = [0 if x ==\"0\" else 1 for x in s]\n",
        "      mod, ans = 10 ** 9 + 7, 0\n",
        "\n",
        "      for  j in range (n):\n",
        "        suf_cnt[s[j]]+=cnt[0]\n",
        "        suf_cnt[2+s[j]]+=cnt[1]\n",
        "        cnt[s[j]] += 1\n",
        "\n",
        "      for j in range(n):\n",
        "        cnt[s[j]] -= 1\n",
        "        suf_cnt[2 * s[j]] -= cnt[0]\n",
        "        suf_cnt[2 * s[j] + 1] -=cnt[1]\n",
        "\n",
        "        ans += pre_cnt[0]*suf_cnt[0]\n",
        "        ans += pre_cnt[1] * suf_cnt[2]\n",
        "        ans += pre_cnt[2] * suf_cnt[1]\n",
        "        ans += pre_cnt[3] * suf_cnt[3] # \"11\" and \"11\"\n",
        "        ans %= mod\n",
        "\n",
        "        pre_cnt[s[j]] += cnt_so_far[0]\n",
        "        pre_cnt[2 + s[j]] += cnt_so_far[1]\n",
        "        cnt_so_far[s[j]] += 1\n",
        "      return ans"
      ]
    },
    {
      "cell_type": "code",
      "source": [
        "s = \"0110100\"\n",
        "get_palindromesequence(s)"
      ],
      "metadata": {
        "colab": {
          "base_uri": "https://localhost:8080/"
        },
        "id": "PH4kCEpzmOsf",
        "outputId": "18ccd762-4a78-4cf7-9a4b-acce24c6e14e"
      },
      "execution_count": null,
      "outputs": [
        {
          "output_type": "execute_result",
          "data": {
            "text/plain": [
              "7"
            ]
          },
          "metadata": {},
          "execution_count": 3
        }
      ]
    },
    {
      "cell_type": "code",
      "source": [],
      "metadata": {
        "id": "wQufUqwrvjvC"
      },
      "execution_count": null,
      "outputs": []
    },
    {
      "cell_type": "code",
      "source": [
        "#second largest number in list without built-in function\n",
        "list1 = [1, 2, 44, 33,22, 44, 22, 44, 44, 44, 44,44,33]\n",
        "mx = max(list1[0],list1[1])\n",
        "secondmax = min(list1[0], list1[1])\n",
        "\n",
        "n = len(list1)\n",
        "for i in range(2, n):\n",
        "  if list1[i]>mx:\n",
        "    secondmax=mx\n",
        "    mx=list1[i]\n",
        "  elif list1[i] > secondmax and \\\n",
        "        mx != list1[i]:\n",
        "        secondmax = list1[i]\n",
        "  elif mx == secondmax and \\\n",
        "        secondmax != list1[i]:\n",
        "          secondmax = list1[i]\n",
        "print(secondmax)"
      ],
      "metadata": {
        "colab": {
          "base_uri": "https://localhost:8080/"
        },
        "id": "uZ__Bev9si5s",
        "outputId": "bfed6d28-8660-49de-fe05-00c6fef9edc1"
      },
      "execution_count": null,
      "outputs": [
        {
          "output_type": "stream",
          "name": "stdout",
          "text": [
            "33\n"
          ]
        }
      ]
    },
    {
      "cell_type": "code",
      "source": [
        "#word reversing\n",
        "s = \"kghgkuhjgfjggkgfnvcgffjhb\"\n",
        "print(s[::-1])\n",
        "\n",
        "#2nd approch\n",
        "x = \"nilesh ganesh malode\"\n",
        "a = x.split()[::-1]\n",
        "print(\" \".join(a))"
      ],
      "metadata": {
        "colab": {
          "base_uri": "https://localhost:8080/"
        },
        "id": "dWuNqir5wDqA",
        "outputId": "58f269e6-7887-4902-f971-dcc4f4f8f011"
      },
      "execution_count": null,
      "outputs": [
        {
          "output_type": "stream",
          "name": "stdout",
          "text": [
            "bhjffgcvnfgkggjfgjhukghgk\n",
            "malode ganesh nilesh\n"
          ]
        }
      ]
    },
    {
      "cell_type": "code",
      "source": [
        "#count the character from the string\n"
      ],
      "metadata": {
        "id": "u4EHh3rRwIDq"
      },
      "execution_count": null,
      "outputs": []
    },
    {
      "cell_type": "code",
      "source": [],
      "metadata": {
        "id": "EM80vzsrxiUt"
      },
      "execution_count": null,
      "outputs": []
    }
  ]
}