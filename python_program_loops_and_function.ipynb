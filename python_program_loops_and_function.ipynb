{
  "nbformat": 4,
  "nbformat_minor": 0,
  "metadata": {
    "colab": {
      "provenance": [],
      "authorship_tag": "ABX9TyNBemC5Q6tcZ1IA1v4v1nYn",
      "include_colab_link": true
    },
    "kernelspec": {
      "name": "python3",
      "display_name": "Python 3"
    },
    "language_info": {
      "name": "python"
    }
  },
  "cells": [
    {
      "cell_type": "markdown",
      "metadata": {
        "id": "view-in-github",
        "colab_type": "text"
      },
      "source": [
        "<a href=\"https://colab.research.google.com/github/nileshmalode11/new/blob/main/python_program_loops_and_function.ipynb\" target=\"_parent\"><img src=\"https://colab.research.google.com/assets/colab-badge.svg\" alt=\"Open In Colab\"/></a>"
      ]
    },
    {
      "cell_type": "code",
      "execution_count": null,
      "metadata": {
        "colab": {
          "base_uri": "https://localhost:8080/"
        },
        "id": "-a7GU1qy__BG",
        "outputId": "17cc5fb0-d31a-4b1f-cb13-0f6d1d96a7ea"
      },
      "outputs": [
        {
          "output_type": "execute_result",
          "data": {
            "text/plain": [
              "4"
            ]
          },
          "metadata": {},
          "execution_count": 8
        }
      ],
      "source": [
        "# Maximum of two numbers in Python\n",
        "\n",
        "def max(a,b):\n",
        "  maximum= (a if a>b else b)\n",
        "  return maximum\n",
        "max(3,4)  "
      ]
    },
    {
      "cell_type": "code",
      "source": [
        "#Python program to add two numbers\n",
        "\n",
        "def add(a,b):\n",
        "  c=a+b\n",
        "  return c\n",
        "add(4,7)  "
      ],
      "metadata": {
        "colab": {
          "base_uri": "https://localhost:8080/"
        },
        "id": "9L77PpwNBFhf",
        "outputId": "d08cc02d-3912-4ec5-eaf8-263e9e367c63"
      },
      "execution_count": null,
      "outputs": [
        {
          "output_type": "execute_result",
          "data": {
            "text/plain": [
              "11"
            ]
          },
          "metadata": {},
          "execution_count": 9
        }
      ]
    },
    {
      "cell_type": "code",
      "source": [
        " #Python Program for factorial of a number\n",
        "\n",
        " # Python program to find the factorial of a number provided by the user\n",
        "# using recursion\n",
        "\n",
        "\n",
        "def factorial(x):\n",
        "    \"\"\"This is a recursive function\n",
        "    to find the factorial of an integer\"\"\"\n",
        "\n",
        "    if x == 1:\n",
        "        return 1\n",
        "    else:\n",
        "        # recursive call to the function\n",
        "        return (x * factorial(x-1))\n",
        "\n",
        "\n",
        "# change the value for a different result\n",
        "num = 7\n",
        "\n",
        "# to take input from the user\n",
        "num = int(input(\"Enter a number: \"))\n",
        "\n",
        "# call the factorial function\n",
        "result = factorial(num)\n",
        "print(\"The factorial of\", num, \"is\", result)"
      ],
      "metadata": {
        "id": "K_XdInSeBYNI"
      },
      "execution_count": null,
      "outputs": []
    },
    {
      "cell_type": "code",
      "source": [
        "n=int(input(\"enter a number\"))\n",
        "s=n\n",
        "b=len(str(n))\n",
        "sum=0\n",
        "while n!=0:\n",
        "  r=n%10\n",
        "  sum=sum+(r**b)\n",
        "  n=n//10\n",
        "if sum==s:\n",
        "  print(\"armstrong number\")\n",
        "else:\n",
        "  print(\"not a armstrong number\")    "
      ],
      "metadata": {
        "colab": {
          "base_uri": "https://localhost:8080/"
        },
        "id": "B7lyj9LpEuq_",
        "outputId": "e6a33ac8-e237-4c7f-ca49-1449cc06136d"
      },
      "execution_count": null,
      "outputs": [
        {
          "output_type": "stream",
          "name": "stdout",
          "text": [
            "enter a number153\n",
            "armstrong number\n"
          ]
        }
      ]
    },
    {
      "cell_type": "code",
      "source": [
        "def cech_prime(l,u):\n",
        "  for num in range(l,u+1):\n",
        "    if num>1:\n",
        "      for i in range(2,num):\n",
        "        if num%i==0:\n",
        "          break\n",
        "      else:\n",
        "        print(num) \n",
        "cech_prime(23,45)          "
      ],
      "metadata": {
        "colab": {
          "base_uri": "https://localhost:8080/"
        },
        "id": "kTRjBeePH1BE",
        "outputId": "aa0cef08-40b8-4eac-d4b4-e447235bbfd5"
      },
      "execution_count": null,
      "outputs": [
        {
          "output_type": "stream",
          "name": "stdout",
          "text": [
            "23\n",
            "29\n",
            "31\n",
            "37\n",
            "41\n",
            "43\n"
          ]
        }
      ]
    },
    {
      "cell_type": "code",
      "source": [
        "n=int(input())\n",
        "a=0\n",
        "b=1\n",
        "count=0\n",
        "if n<=0:\n",
        "  print(\"enter possitive number\")\n",
        "elif n==1:\n",
        "  print(n-1)\n",
        "else:\n",
        "  while count<n:\n",
        "    print(b)\n",
        "    nth=a+b\n",
        "    a=b\n",
        "    b=nth\n",
        "    count+=1\n",
        "\n",
        "\n"
      ],
      "metadata": {
        "colab": {
          "base_uri": "https://localhost:8080/"
        },
        "id": "f9hXkW8uI_vJ",
        "outputId": "904b4048-0a48-4100-d488-3dc41b789e23"
      },
      "execution_count": null,
      "outputs": [
        {
          "output_type": "stream",
          "name": "stdout",
          "text": [
            "12\n",
            "1\n",
            "1\n",
            "2\n",
            "3\n",
            "5\n",
            "8\n",
            "13\n",
            "21\n",
            "34\n",
            "55\n",
            "89\n",
            "144\n"
          ]
        }
      ]
    },
    {
      "cell_type": "code",
      "source": [
        "def squaresum(n):\n",
        "  sum=0\n",
        "  for i in range(1,n+1):\n",
        "    sum=(i*i)\n",
        "    print(sum)\n",
        "n=int(input())\n",
        "squaresum(n)"
      ],
      "metadata": {
        "colab": {
          "base_uri": "https://localhost:8080/"
        },
        "id": "NKC-Ii32hKaj",
        "outputId": "153dfacf-0839-40e9-b563-7156b04dd53e"
      },
      "execution_count": null,
      "outputs": [
        {
          "output_type": "stream",
          "name": "stdout",
          "text": [
            "10\n",
            "1\n",
            "4\n",
            "9\n",
            "16\n",
            "25\n",
            "36\n",
            "49\n",
            "64\n",
            "81\n",
            "100\n"
          ]
        }
      ]
    },
    {
      "cell_type": "code",
      "source": [
        "x=int(input())\n",
        "square=lambda x : x*x\n",
        "print(square)\n"
      ],
      "metadata": {
        "colab": {
          "base_uri": "https://localhost:8080/"
        },
        "id": "kDAksxqUhUY-",
        "outputId": "4baf1145-0118-44a2-bf4a-0bdc41701ba7"
      },
      "execution_count": null,
      "outputs": [
        {
          "output_type": "stream",
          "name": "stdout",
          "text": [
            "12\n",
            "12\n"
          ]
        }
      ]
    }
  ]
}